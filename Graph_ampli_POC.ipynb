{
  "nbformat": 4,
  "nbformat_minor": 0,
  "metadata": {
    "colab": {
      "name": "Graph_ampli_POC.ipynb",
      "provenance": [],
      "collapsed_sections": [],
      "authorship_tag": "ABX9TyP5NXSgjc+PSJcGSX4DgB2z",
      "include_colab_link": true
    },
    "kernelspec": {
      "name": "python3",
      "display_name": "Python 3"
    },
    "accelerator": "GPU"
  },
  "cells": [
    {
      "cell_type": "markdown",
      "metadata": {
        "id": "view-in-github",
        "colab_type": "text"
      },
      "source": [
        "<a href=\"https://colab.research.google.com/github/Nsharma96/Knowledge-graph-embeddings/blob/master/Graph_ampli_POC.ipynb\" target=\"_parent\"><img src=\"https://colab.research.google.com/assets/colab-badge.svg\" alt=\"Open In Colab\"/></a>"
      ]
    },
    {
      "cell_type": "code",
      "metadata": {
        "id": "Ua1uZypfEx1E",
        "colab_type": "code",
        "colab": {}
      },
      "source": [
        "# %tensorflow_version 1.x\n",
        "!pip uninstall -y tensorflow\n",
        "!pip install tensorflow-gpu==1.14\n",
        "!pip install ampligraph==1.3.2"
      ],
      "execution_count": null,
      "outputs": []
    },
    {
      "cell_type": "code",
      "metadata": {
        "id": "EIfqfxuLzDqX",
        "colab_type": "code",
        "colab": {
          "base_uri": "https://localhost:8080/",
          "height": 35
        },
        "outputId": "2ce0ce87-ae08-41bf-ce09-e495e24f366b"
      },
      "source": [
        "import sys,os\n",
        "from google.colab import drive\n",
        "drive.mount('/content/drive')"
      ],
      "execution_count": 1,
      "outputs": [
        {
          "output_type": "stream",
          "text": [
            "Drive already mounted at /content/drive; to attempt to forcibly remount, call drive.mount(\"/content/drive\", force_remount=True).\n"
          ],
          "name": "stdout"
        }
      ]
    },
    {
      "cell_type": "code",
      "metadata": {
        "id": "MT2S9qgOzA34",
        "colab_type": "code",
        "colab": {}
      },
      "source": [
        "bpath = '/content/drive/My Drive/Stock Data' #datasetdir\n",
        "sys.path.insert(0,bpath)\n",
        "os.chdir(bpath)"
      ],
      "execution_count": 2,
      "outputs": []
    },
    {
      "cell_type": "code",
      "metadata": {
        "id": "7HfL08VNE0Fd",
        "colab_type": "code",
        "colab": {}
      },
      "source": [
        "import ampligraph\n",
        "import pandas as pd\n",
        "import numpy as np\n",
        "import tensorflow as tf\n",
        "ampligraph.__version__"
      ],
      "execution_count": null,
      "outputs": []
    },
    {
      "cell_type": "code",
      "metadata": {
        "id": "RSM_MA82FCVD",
        "colab_type": "code",
        "colab": {
          "base_uri": "https://localhost:8080/",
          "height": 298
        },
        "outputId": "53d1f165-1738-448f-b852-de07591e7253"
      },
      "source": [
        "rem = pd.read_csv('tripletsV2.csv')\n",
        "display(rem.head())\n",
        "rem['id'] = rem['id'].apply(lambda x: str(x))\n",
        "x = rem[['name','rel','prop']]\n",
        "x = x.values\n",
        "for i in x:\n",
        "  if len(i)==0:\n",
        "    print(\"lenth 0\")\n",
        "x[:5, ]\n"
      ],
      "execution_count": 4,
      "outputs": [
        {
          "output_type": "display_data",
          "data": {
            "text/html": [
              "<div>\n",
              "<style scoped>\n",
              "    .dataframe tbody tr th:only-of-type {\n",
              "        vertical-align: middle;\n",
              "    }\n",
              "\n",
              "    .dataframe tbody tr th {\n",
              "        vertical-align: top;\n",
              "    }\n",
              "\n",
              "    .dataframe thead th {\n",
              "        text-align: right;\n",
              "    }\n",
              "</style>\n",
              "<table border=\"1\" class=\"dataframe\">\n",
              "  <thead>\n",
              "    <tr style=\"text-align: right;\">\n",
              "      <th></th>\n",
              "      <th>id</th>\n",
              "      <th>name</th>\n",
              "      <th>rel</th>\n",
              "      <th>prop</th>\n",
              "    </tr>\n",
              "  </thead>\n",
              "  <tbody>\n",
              "    <tr>\n",
              "      <th>0</th>\n",
              "      <td>24831275</td>\n",
              "      <td>modular office furniture</td>\n",
              "      <td>COLOR</td>\n",
              "      <td>white</td>\n",
              "    </tr>\n",
              "    <tr>\n",
              "      <th>1</th>\n",
              "      <td>24831275</td>\n",
              "      <td>modular office furniture</td>\n",
              "      <td>HAS_UNIT</td>\n",
              "      <td>square feet</td>\n",
              "    </tr>\n",
              "    <tr>\n",
              "      <th>2</th>\n",
              "      <td>24831275</td>\n",
              "      <td>modular office furniture</td>\n",
              "      <td>HAS_PRICE</td>\n",
              "      <td>600</td>\n",
              "    </tr>\n",
              "    <tr>\n",
              "      <th>3</th>\n",
              "      <td>31743796</td>\n",
              "      <td>office furniture</td>\n",
              "      <td>MATERIAL</td>\n",
              "      <td>plywood</td>\n",
              "    </tr>\n",
              "    <tr>\n",
              "      <th>4</th>\n",
              "      <td>31743796</td>\n",
              "      <td>office furniture</td>\n",
              "      <td>HAS_UNIT</td>\n",
              "      <td>piece</td>\n",
              "    </tr>\n",
              "  </tbody>\n",
              "</table>\n",
              "</div>"
            ],
            "text/plain": [
              "         id                      name        rel         prop\n",
              "0  24831275  modular office furniture      COLOR        white\n",
              "1  24831275  modular office furniture   HAS_UNIT  square feet\n",
              "2  24831275  modular office furniture  HAS_PRICE          600\n",
              "3  31743796          office furniture   MATERIAL      plywood\n",
              "4  31743796          office furniture   HAS_UNIT        piece"
            ]
          },
          "metadata": {
            "tags": []
          }
        },
        {
          "output_type": "execute_result",
          "data": {
            "text/plain": [
              "array([['modular office furniture', 'COLOR', 'white'],\n",
              "       ['modular office furniture', 'HAS_UNIT', 'square feet'],\n",
              "       ['modular office furniture', 'HAS_PRICE', '600'],\n",
              "       ['office furniture', 'MATERIAL', 'plywood'],\n",
              "       ['office furniture', 'HAS_UNIT', 'piece']], dtype=object)"
            ]
          },
          "metadata": {
            "tags": []
          },
          "execution_count": 4
        }
      ]
    },
    {
      "cell_type": "code",
      "metadata": {
        "id": "GB7dqwkVGVHL",
        "colab_type": "code",
        "colab": {
          "base_uri": "https://localhost:8080/",
          "height": 72
        },
        "outputId": "da5a8dc8-7e84-4cd7-a9d3-0313019a89de"
      },
      "source": [
        "entities = np.unique(np.concatenate([x[:, 0], x[:, 2]]))\n",
        "entities"
      ],
      "execution_count": 5,
      "outputs": [
        {
          "output_type": "execute_result",
          "data": {
            "text/plain": [
              "array(['(d) 900 mm x (h) 750 mm', '(l) 1800mm x (d) 900mm x (h) 750mm',\n",
              "       '(l)1200mm x (d)600mm x (h)750mm', ..., 'zsi-04 boss office chair',\n",
              "       'zsi-10 executive chair', 'zsi-70 staff chair'], dtype=object)"
            ]
          },
          "metadata": {
            "tags": []
          },
          "execution_count": 5
        }
      ]
    },
    {
      "cell_type": "code",
      "metadata": {
        "id": "l6Tuta31HOIb",
        "colab_type": "code",
        "colab": {
          "base_uri": "https://localhost:8080/",
          "height": 514
        },
        "outputId": "aa0a1600-0a99-4bf9-b467-3523a3e04e13"
      },
      "source": [
        "relations = np.unique(x[:, 1])\n",
        "relations"
      ],
      "execution_count": 6,
      "outputs": [
        {
          "output_type": "execute_result",
          "data": {
            "text/plain": [
              "array(['ADJUSTABLE SEAT HEIGHT', 'AGE GROUP', 'APPEARANCE', 'APPLICATION',\n",
              "       'ARM REST', 'ARM STYLE', 'ARM TYPE', 'ARMREST', 'BACK HEIGHT',\n",
              "       'BACK TYPE', 'BENCH SIZE', 'BENCH TYPE', 'BODY MATERIAL', 'BRAND',\n",
              "       'BRAND NAME', 'BRAND PREFERENCE', 'BUILT TYPE', 'CABINET TYPE',\n",
              "       'CHAIR TYPE', 'CHIPSET TYPE', 'COLOR', 'COLOUR',\n",
              "       'COMPANY WORK PROFILE', 'DESIGN', 'DESIGN TYPE', 'DIMENSION',\n",
              "       'DISPATCH TIME', 'DOOR TYPE', 'EXCHANGE ACCEPTED', 'FEATURES',\n",
              "       'FRAME TYPE', 'HAS_PRICE', 'HAS_UNIT', 'HEIGHT', 'I ALSO PROVIDE',\n",
              "       'IDEAL FOR', 'INSTITUTIONAL CHAIR', 'IS IT ROTATABLE', 'ITEM CODE',\n",
              "       'KITCHEN SHAPE', 'LAYOUT TYPE', 'LEG MATERIAL', 'LOCK TYPE',\n",
              "       'MATERIAL', 'MATERIAL FINISH', 'MODEL', 'MODEL NAME/NUMBER',\n",
              "       'MODEL NO', 'MODEL NUMBER', 'MODEL NUMBER/NAME',\n",
              "       'MODULAR KITCHEN COMPONENTS', 'NO OF LEGS', 'NO OF LOCKERS',\n",
              "       'NO OF SEATER', 'NO OF WHEELS', 'NO. OF DOORS', 'NO. OF DRAWERS',\n",
              "       'NO. OF SHELVES', 'NUMBER OF LOCKERS', 'PACKAGING TYPE',\n",
              "       'PAYMENT TERMS', 'POSITION', 'PRICE', 'PRODUCT CODE',\n",
              "       'PRODUCT CODE NO', 'PRODUCT TYPE', 'RETURN ACCEPTED',\n",
              "       'REVOLVING CHAIR', 'SEAT MATERIAL', 'SEAT MATERIAL (UPHOLSTERY)',\n",
              "       'SEAT MATERIAL1', 'SEATING CAPACITY', 'SEATING CAPACITY1',\n",
              "       'SEATING HEIGHT (IN MM)', 'SET CONTAINS', 'SET SIZE', 'SHAPE',\n",
              "       'SHIPPING AVAILABLE', 'SITTING CAPACITY', 'SIZE', 'SIZE (FEET)',\n",
              "       'SIZE (INCHES)', 'SIZE/DIMENSION', 'SPECIFIC USE',\n",
              "       'STORAGE/DRAWERS', 'STYLE', 'SURFACE FINISH', 'SURFACE FINISHING',\n",
              "       'SURFACE TREATMENT', 'TABLE HEIGHT', 'TABLE TYPE', 'THICKNESS',\n",
              "       'TYPE', 'TYPE OF LOCK', 'TYPE OF PAINT', 'USAGE',\n",
              "       'USAGE/APPLICATION', 'USE', 'USES', 'VEHICLE TYPE', 'WARRANTY',\n",
              "       'WEIGHT (KILOGRAM)'], dtype=object)"
            ]
          },
          "metadata": {
            "tags": []
          },
          "execution_count": 6
        }
      ]
    },
    {
      "cell_type": "code",
      "metadata": {
        "id": "TcwgsWj9HxC5",
        "colab_type": "code",
        "colab": {}
      },
      "source": [
        "from ampligraph.evaluation import train_test_split_no_unseen \n",
        "\n",
        "X_train_valid, X_test = train_test_split_no_unseen(x, test_size=3000)\n",
        "X_train, X_valid = train_test_split_no_unseen(X_train_valid, test_size=3000)\n",
        "# X_train, X_test = train_test_split_no_unseen(x, test_size=3000)"
      ],
      "execution_count": 7,
      "outputs": []
    },
    {
      "cell_type": "code",
      "metadata": {
        "id": "zwoWkDEHH4nl",
        "colab_type": "code",
        "colab": {
          "base_uri": "https://localhost:8080/",
          "height": 72
        },
        "outputId": "8c586f2e-1fde-487d-ae5b-748673391bde"
      },
      "source": [
        "print('Train set size: ', X_train.shape)\n",
        "print('Test set size: ', X_test.shape)\n",
        "print('Validation set size: ', X_valid.shape)"
      ],
      "execution_count": 8,
      "outputs": [
        {
          "output_type": "stream",
          "text": [
            "Train set size:  (11241, 3)\n",
            "Test set size:  (3000, 3)\n",
            "Validation set size:  (3000, 3)\n"
          ],
          "name": "stdout"
        }
      ]
    },
    {
      "cell_type": "code",
      "metadata": {
        "id": "9iG1P_g0H-aP",
        "colab_type": "code",
        "colab": {}
      },
      "source": [
        "\n",
        "from ampligraph.latent_features import ComplEx"
      ],
      "execution_count": 9,
      "outputs": []
    },
    {
      "cell_type": "code",
      "metadata": {
        "id": "8Yx50irCIAqz",
        "colab_type": "code",
        "colab": {}
      },
      "source": [
        "model = ComplEx(batches_count=100, \n",
        "                seed=0, \n",
        "                epochs=300, \n",
        "                k=150, \n",
        "                eta=5,\n",
        "                optimizer='adam', \n",
        "                optimizer_params={'lr':1e-3},\n",
        "                loss='multiclass_nll', \n",
        "                regularizer='LP', \n",
        "                regularizer_params={'p':3, 'lambda':1e-5}, \n",
        "                verbose=True)"
      ],
      "execution_count": 10,
      "outputs": []
    },
    {
      "cell_type": "code",
      "metadata": {
        "id": "H6y6HU63I5ua",
        "colab_type": "code",
        "colab": {}
      },
      "source": [
        "positives_filter = x"
      ],
      "execution_count": 11,
      "outputs": []
    },
    {
      "cell_type": "code",
      "metadata": {
        "id": "UBkESiv9I_93",
        "colab_type": "code",
        "colab": {
          "base_uri": "https://localhost:8080/",
          "height": 35
        },
        "outputId": "3864a52c-5f66-44fd-cea9-a228a1bf2046"
      },
      "source": [
        "tf.logging.set_verbosity(tf.logging.ERROR)\n",
        "# model.fit(X_train, ,early_stopping = True)\n",
        "model.fit(X_train, early_stopping = True,early_stopping_params = \\\n",
        "                  {\n",
        "                      'x_valid': X_valid,       # validation set\n",
        "                      'criteria':'hits10',         # Uses hits10 criteria for early stopping\n",
        "                      'burn_in': 100,              # early stopping kicks in after 100 epochs\n",
        "                      'check_interval':20,         # validates every 20th epoch\n",
        "                      'stop_interval':5,           # stops if 5 successive validation checks are bad.\n",
        "                      'x_filter': positives_filter,          # Use filter for filtering out positives \n",
        "                      'corruption_entities':'all', # corrupt using all entities\n",
        "                      'corrupt_side':'s+o'         # corrupt subject and object (but not at once)\n",
        "                  },\n",
        "          )"
      ],
      "execution_count": 12,
      "outputs": [
        {
          "output_type": "stream",
          "text": [
            "Average Loss:   0.032780 — Best validation (hits10): 0.139000: 100%|██████████| 300/300 [04:33<00:00,  1.10epoch/s]\n"
          ],
          "name": "stderr"
        }
      ]
    },
    {
      "cell_type": "code",
      "metadata": {
        "id": "0U5ED7wPMYEe",
        "colab_type": "code",
        "colab": {
          "base_uri": "https://localhost:8080/",
          "height": 35
        },
        "outputId": "745b7e1a-a1bf-4cb0-9321-d43f4b704186"
      },
      "source": [
        "from ampligraph.latent_features import save_model, restore_model\n",
        "# save_model(model, './best_model.pkl')\n",
        "model = restore_model('./best_model.pkl')\n",
        "if model.is_fitted:\n",
        "    print('The model is fit!')\n",
        "else:\n",
        "    print('The model is not fit! Did you skip a step?')"
      ],
      "execution_count": 13,
      "outputs": [
        {
          "output_type": "stream",
          "text": [
            "The model is fit!\n"
          ],
          "name": "stdout"
        }
      ]
    },
    {
      "cell_type": "code",
      "metadata": {
        "id": "Pv-1MCaCx_YE",
        "colab_type": "code",
        "colab": {
          "base_uri": "https://localhost:8080/",
          "height": 164
        },
        "outputId": "ea6982d8-989a-4db8-f4a6-06a465e99ffc"
      },
      "source": [
        "print(X_train)\n",
        "print(np.__version__)"
      ],
      "execution_count": 14,
      "outputs": [
        {
          "output_type": "stream",
          "text": [
            "[['modular office furniture' 'HAS_UNIT' 'square feet']\n",
            " ['office furniture' 'MATERIAL' 'plywood']\n",
            " ['office furniture' 'HAS_UNIT' 'piece']\n",
            " ...\n",
            " ['stainless steel school desk' 'MATERIAL' 'stainless steel']\n",
            " ['stainless steel school desk' 'HAS_PRICE' '1200']\n",
            " ['stainless steel school desk' 'HAS_UNIT' 'unit']]\n",
            "1.18.5\n"
          ],
          "name": "stdout"
        }
      ]
    },
    {
      "cell_type": "code",
      "metadata": {
        "id": "dwnUIt5qJCOT",
        "colab_type": "code",
        "colab": {
          "base_uri": "https://localhost:8080/",
          "height": 54
        },
        "outputId": "03d99592-cf07-4334-88bd-993a94f21caa"
      },
      "source": [
        "from ampligraph.evaluation import evaluate_performance\n",
        "# X_test = \n",
        "ranks = evaluate_performance(X_test, \n",
        "                             model=model, \n",
        "                             filter_triples=positives_filter,   # Corruption strategy filter defined above \n",
        "                             use_default_protocol=True, # corrupt subj and obj separately while evaluating\n",
        "                             verbose=True)"
      ],
      "execution_count": 15,
      "outputs": [
        {
          "output_type": "stream",
          "text": [
            "WARNING - DeprecationWarning: use_default_protocol will be removed in future. Please use corrupt_side argument instead.\n"
          ],
          "name": "stdout"
        },
        {
          "output_type": "stream",
          "text": [
            "100%|██████████| 2854/2854 [00:10<00:00, 260.94it/s]\n"
          ],
          "name": "stderr"
        }
      ]
    },
    {
      "cell_type": "code",
      "metadata": {
        "id": "FA1xw-iGJKTw",
        "colab_type": "code",
        "colab": {
          "base_uri": "https://localhost:8080/",
          "height": 91
        },
        "outputId": "200fb145-9062-4b64-c913-1e8d2ae3626c"
      },
      "source": [
        "from ampligraph.evaluation import mr_score, mrr_score, hits_at_n_score\n",
        "\n",
        "mrr = mrr_score(ranks)\n",
        "print(\"MRR: %.2f\" % (mrr))\n",
        "\n",
        "hits_10 = hits_at_n_score(ranks, n=10)\n",
        "print(\"Hits@10: %.2f\" % (hits_10))\n",
        "hits_3 = hits_at_n_score(ranks, n=3)\n",
        "print(\"Hits@3: %.2f\" % (hits_3))\n",
        "hits_1 = hits_at_n_score(ranks, n=1)\n",
        "print(\"Hits@1: %.2f\" % (hits_1))"
      ],
      "execution_count": 16,
      "outputs": [
        {
          "output_type": "stream",
          "text": [
            "MRR: 0.46\n",
            "Hits@10: 0.55\n",
            "Hits@3: 0.48\n",
            "Hits@1: 0.42\n"
          ],
          "name": "stdout"
        }
      ]
    },
    {
      "cell_type": "code",
      "metadata": {
        "id": "UihkRYlza6gF",
        "colab_type": "code",
        "colab": {}
      },
      "source": [
        "from scipy.special import expit\n",
        "X_unseen = X_test[:1000]\n",
        "unseen_filter = np.array(list({tuple(i) for i in np.vstack((positives_filter, X_unseen))}))\n",
        "ranks_unseen = evaluate_performance(\n",
        "    X_unseen, \n",
        "    model=model, \n",
        "    filter_triples=unseen_filter,   # Corruption strategy filter defined above \n",
        "    corrupt_side = 's+o',\n",
        "    use_default_protocol=False, # corrupt subj and obj separately while evaluating\n",
        "    verbose=True,\n",
        "    filter_unseen=True\n",
        ")\n",
        "# scores = model.predict(X_unseen)\n",
        "# probs = expit(scores)\n",
        "# print(probs)\n",
        "\n",
        "output = pd.DataFrame(list(zip([' '.join(x) for x in X_unseen], \n",
        "                      ranks_unseen,)) , \n",
        "             columns=['statement', 'rank',]).sort_values(\"rank\")"
      ],
      "execution_count": null,
      "outputs": []
    },
    {
      "cell_type": "code",
      "metadata": {
        "id": "DZe_0HQan6zv",
        "colab_type": "code",
        "colab": {
          "base_uri": "https://localhost:8080/",
          "height": 238
        },
        "outputId": "d7a244f8-8d3f-4ff4-8d64-527fcf4673fd"
      },
      "source": [
        "print(output['rank'].value_counts())"
      ],
      "execution_count": 78,
      "outputs": [
        {
          "output_type": "stream",
          "text": [
            "1       279\n",
            "2        39\n",
            "3        14\n",
            "5        11\n",
            "4         9\n",
            "       ... \n",
            "6583      1\n",
            "624       1\n",
            "8571      1\n",
            "633       1\n",
            "2447      1\n",
            "Name: rank, Length: 449, dtype: int64\n"
          ],
          "name": "stdout"
        }
      ]
    },
    {
      "cell_type": "code",
      "metadata": {
        "id": "y83NT1dAkz0v",
        "colab_type": "code",
        "colab": {
          "base_uri": "https://localhost:8080/",
          "height": 283
        },
        "outputId": "2f125db1-5eeb-4b56-90e8-b390f6cd7fa5"
      },
      "source": [
        "# output['rank'].hist()"
      ],
      "execution_count": 83,
      "outputs": [
        {
          "output_type": "execute_result",
          "data": {
            "text/plain": [
              "<matplotlib.axes._subplots.AxesSubplot at 0x7fb7c64ab9e8>"
            ]
          },
          "metadata": {
            "tags": []
          },
          "execution_count": 83
        },
        {
          "output_type": "display_data",
          "data": {
            "image/png": "[encoded data removed]",
            "text/plain": [
              "<Figure size 432x288 with 1 Axes>"
            ]
          },
          "metadata": {
            "tags": [],
            "needs_background": "light"
          }
        }
      ]
    },
    {
      "cell_type": "code",
      "metadata": {
        "id": "RjxCM79Yk1t9",
        "colab_type": "code",
        "colab": {}
      },
      "source": [
        "**************************************end code********************************************"
      ],
      "execution_count": null,
      "outputs": []
    },
    {
      "cell_type": "code",
      "metadata": {
        "id": "rI3T-x8Sk19S",
        "colab_type": "code",
        "colab": {}
      },
      "source": [
        ""
      ],
      "execution_count": null,
      "outputs": []
    },
    {
      "cell_type": "code",
      "metadata": {
        "id": "yDqGPR2zk2MJ",
        "colab_type": "code",
        "colab": {}
      },
      "source": [
        ""
      ],
      "execution_count": null,
      "outputs": []
    },
    {
      "cell_type": "code",
      "metadata": {
        "id": "8kosA9FSk2bw",
        "colab_type": "code",
        "colab": {}
      },
      "source": [
        ""
      ],
      "execution_count": null,
      "outputs": []
    },
    {
      "cell_type": "code",
      "metadata": {
        "id": "M24hG5a6k2tI",
        "colab_type": "code",
        "colab": {}
      },
      "source": [
        ""
      ],
      "execution_count": null,
      "outputs": []
    },
    {
      "cell_type": "code",
      "metadata": {
        "id": "MpA_S_b9dHXC",
        "colab_type": "code",
        "colab": {
          "base_uri": "https://localhost:8080/",
          "height": 72
        },
        "outputId": "964b1bf7-b842-4bec-d9e0-fd3d8ea22365"
      },
      "source": [
        "data = pd.read_csv('tripletsV2.csv')\n",
        "print(data.shape)\n",
        "data.drop(data[data['name'] == 'no pc_item'].index, inplace=True)\n",
        "data.drop(data[data['prop'] == 'no price'].index, inplace=True)\n",
        "print(data.shape)\n",
        "len(data['name'])"
      ],
      "execution_count": 73,
      "outputs": [
        {
          "output_type": "stream",
          "text": [
            "(17241, 4)\n",
            "(16711, 4)\n"
          ],
          "name": "stdout"
        },
        {
          "output_type": "execute_result",
          "data": {
            "text/plain": [
              "16711"
            ]
          },
          "metadata": {
            "tags": []
          },
          "execution_count": 73
        }
      ]
    },
    {
      "cell_type": "code",
      "metadata": {
        "id": "RhupjQiL5Tlc",
        "colab_type": "code",
        "colab": {}
      },
      "source": [
        "price_bucket = pd.read_csv('price_bucket.csv')\n",
        "\n",
        "#Create dictionary for price buckets for mapping.\n",
        "p_range_map  = dict()\n",
        "count = 0\n",
        "for i in range(len(price_bucket['lower'])):\n",
        "  p_range_map[count] = [price_bucket['lower'].iloc[i],price_bucket['upper'].iloc[i]]\n",
        "  count+=1"
      ],
      "execution_count": 74,
      "outputs": []
    },
    {
      "cell_type": "code",
      "metadata": {
        "id": "ETrvLZL5FlJx",
        "colab_type": "code",
        "colab": {}
      },
      "source": [
        "model.get_embeddings()"
      ],
      "execution_count": null,
      "outputs": []
    },
    {
      "cell_type": "code",
      "metadata": {
        "id": "s3fqTF0dgrln",
        "colab_type": "code",
        "colab": {}
      },
      "source": [
        "import itertools\n",
        "pcItem = data['name'].unique()\n",
        "print(type(pcItem))\n",
        "display(pcItem)\n",
        "pcItem_embeddings = dict(zip(pcItem,model.get_embeddings(pcItem)))\n",
        "\n",
        "ke = []\n",
        "val = []\n",
        "for k,v in pcItem_embeddings.items():\n",
        "  ke.append(k)\n",
        "  val.append(v)\n",
        "embed_df = pd.DataFrame({'name':ke,'embed':val})\n",
        "\n",
        "\n",
        "price_df = pd.read_csv('item_price.csv')\n",
        "price_df.drop(price_df[price_df['item_name'] == 'no pc_item'].index, inplace=True)\n",
        "price_df.drop(price_df[price_df['price'] == 'no price'].index, inplace=True)\n",
        "price_df['embed'] = price_df['item_name'].apply(lambda x: pcItem_embeddings[x])\n",
        "\n",
        "price_df1 = pd.DataFrame(price_df.embed.values.tolist()).add_prefix('embed_')\n",
        "price_df1['price'] = price_df['price']\n",
        "price_df1['name'] = price_df['item_name']\n",
        "price_df = price_df1 \n",
        "# print(price_df.loc[price_df['name'] == 'revolving computer chair'])\n",
        "\n",
        "price_df.dropna(inplace = True)\n",
        "#Build target variable\n",
        "l = []\n",
        "for i in range(len(price_df['price'])):\n",
        "    for k,v in p_range_map.items():\n",
        "      if(price_df['price'].iloc[i]>=v[0] and price_df['price'].iloc[i]<=v[1]):\n",
        "        l.append(k)\n",
        "        break\n",
        "price_df['target'] = l\n",
        "# price_df['target'] = (price_df.price>4000).astype(int)\n",
        "\n",
        "\n",
        "print(price_df.head())\n",
        "print(price_df.describe())\n",
        "print(embed_df.head())\n",
        "print(embed_df.describe())\n",
        "# print(dict(itertools.islice(pcItem_embeddings.items(), 2)))"
      ],
      "execution_count": null,
      "outputs": []
    },
    {
      "cell_type": "code",
      "metadata": {
        "id": "6xrPGLMJFImd",
        "colab_type": "code",
        "colab": {}
      },
      "source": [
        "import matplotlib.pyplot as plt\n",
        "price_df.drop(price_df[price_df['price'] == 0].index, inplace=True)\n",
        "fig = plt.figure(figsize = (30,10))\n",
        "ax = fig.gca()\n",
        "price_df.to_csv('training.csv')\n",
        "print(price_df['target'].hist(bins=59,ax=ax))\n",
        "print(price_df[price_df['target']>=40])"
      ],
      "execution_count": null,
      "outputs": []
    },
    {
      "cell_type": "code",
      "metadata": {
        "id": "YeSFKd9R0ol8",
        "colab_type": "code",
        "colab": {}
      },
      "source": [
        "train_dataset = price_df.sample(frac=0.8,random_state=0)\n",
        "test_dataset = price_df.drop(train_dataset.index)\n",
        "train_dataset.pop('price')\n",
        "test_dataset.pop('price')"
      ],
      "execution_count": null,
      "outputs": []
    },
    {
      "cell_type": "code",
      "metadata": {
        "id": "Re8DaCS8KKCY",
        "colab_type": "code",
        "colab": {}
      },
      "source": [
        "clf_X_train = train_dataset\n",
        "clf_X_test = test_dataset\n",
        "y_train = train_dataset.pop('target')\n",
        "y_test = test_dataset.pop('target')"
      ],
      "execution_count": null,
      "outputs": []
    },
    {
      "cell_type": "code",
      "metadata": {
        "id": "bPyxlTq6XPow",
        "colab_type": "code",
        "colab": {}
      },
      "source": [
        "clf_X_train.shape, clf_X_test.shape"
      ],
      "execution_count": null,
      "outputs": []
    },
    {
      "cell_type": "code",
      "metadata": {
        "id": "558au9JGkPoS",
        "colab_type": "code",
        "colab": {}
      },
      "source": [
        "from imblearn.over_sampling import RandomOverSampler,SMOTE \n",
        "from imblearn.under_sampling import RandomUnderSampler\n",
        "from imblearn.combine import SMOTETomek\n",
        "from imblearn.under_sampling import TomekLinks\n",
        "from imblearn.pipeline import Pipeline\n",
        "ros = RandomOverSampler(random_state=42)\n",
        "rus = RandomUnderSampler(random_state=42)\n",
        "pipeline = Pipeline(steps=[('r', ros), ('u', rus)])\n",
        "X_resampled, y_resampled = pipeline.fit_resample(clf_X_train.iloc[:,:-1], y_train)"
      ],
      "execution_count": null,
      "outputs": []
    },
    {
      "cell_type": "code",
      "metadata": {
        "id": "GSQvBaP3l7VS",
        "colab_type": "code",
        "colab": {}
      },
      "source": [
        "temp = pd.DataFrame(X_resampled)\n",
        "temp['label'] = y_resampled\n",
        "temp['label'].hist(bins=49)"
      ],
      "execution_count": null,
      "outputs": []
    },
    {
      "cell_type": "code",
      "metadata": {
        "id": "PPxLQyxKkaXE",
        "colab_type": "code",
        "colab": {}
      },
      "source": [
        "X_resampled.shape, clf_X_test.shape"
      ],
      "execution_count": null,
      "outputs": []
    },
    {
      "cell_type": "code",
      "metadata": {
        "id": "7ujLxu9qa89V",
        "colab_type": "code",
        "colab": {}
      },
      "source": [
        "print(X_resampled)"
      ],
      "execution_count": null,
      "outputs": []
    },
    {
      "cell_type": "code",
      "metadata": {
        "id": "F2DY5O6w1-5C",
        "colab_type": "code",
        "colab": {}
      },
      "source": [
        "from sklearn.ensemble import RandomForestClassifier\n",
        "rf = RandomForestClassifier()\n",
        "# rf = rf.fit(clf_X_train.iloc[:,:-1],y_train)\n",
        "rf = rf.fit(X_resampled,y_resampled)\n",
        "print('rfc trained')\n",
        "\n",
        "from sklearn.linear_model import LogisticRegression\n",
        "# lrcv = LogisticRegression(random_state=0,verbose=2,max_iter = 500).fit(clf_X_train.iloc[:,:-1], y_train)\n",
        "lrcv = LogisticRegression(random_state=0,verbose=2,max_iter = 500).fit(X_resampled, y_resampled)\n",
        "\n",
        "print('lrcv trained')\n",
        "\n",
        "from xgboost import XGBClassifier\n",
        "clf_model = XGBClassifier()\n",
        "# clf_model.fit(clf_X_train.iloc[:,:-1], y_train)\n",
        "clf_model.fit(X_resampled,y_resampled)\n",
        "print('Xgboost trained')\n",
        "\n",
        "from sklearn.ensemble import RandomForestRegressor\n",
        "# regr = RandomForestRegressor(random_state=0,verbose = 1,criterion = 'mae',n_estimators=20)\n",
        "# # regr.fit(clf_X_train.iloc[:,:-1], y_train)\n",
        "# regr.fit(X_resampled,y_resampled)\n",
        "# print('reger trained')\n",
        "\n",
        "import xgboost as xgb\n",
        "# data_dmatrix = xgb.DMatrix(data=clf_X_train.iloc[:,:-1],label=y_train)\n",
        "# xg_reg = xgb.XGBRegressor(objective ='reg:linear', learning_rate = 0.1, n_estimators = 300,verbose = 1,)\n",
        "# xg_reg.fit(clf_X_train,y_train)"
      ],
      "execution_count": null,
      "outputs": []
    },
    {
      "cell_type": "code",
      "metadata": {
        "id": "wPDevaKzG5mB",
        "colab_type": "code",
        "colab": {}
      },
      "source": [
        "# ypred_regr = np.round(regr.predict(clf_X_test.iloc[:,:-1]))\n",
        "# ypred_xg_reg = np.round(xg_reg.predict(clf_X_test.iloc[:,:-1]))"
      ],
      "execution_count": null,
      "outputs": []
    },
    {
      "cell_type": "code",
      "metadata": {
        "id": "adZYlCJ-2Rbt",
        "colab_type": "code",
        "colab": {}
      },
      "source": [
        "from sklearn import metrics\n",
        "# metrics.accuracy_score(y_test, clf_model.predict(clf_X_test))\n",
        "print(metrics.accuracy_score(y_test, rf.predict(clf_X_test.iloc[:,:-1])))\n",
        "print(metrics.accuracy_score(y_test, lrcv.predict(clf_X_test.iloc[:,:-1])))\n",
        "print(metrics.accuracy_score(y_test, ypred_regr))\n",
        "# print(metrics.accuracy_score(y_test, ypred_xg_reg))\n",
        "\n",
        "\n",
        "# print(metrics.accuracy_score(y_test, clf_model.predict(clf_X_test.iloc[:,:-1])))"
      ],
      "execution_count": null,
      "outputs": []
    },
    {
      "cell_type": "code",
      "metadata": {
        "id": "QnO832Jt8HSN",
        "colab_type": "code",
        "colab": {}
      },
      "source": [
        " lrcv.predict(clf_X_test.iloc[:,:-1])"
      ],
      "execution_count": null,
      "outputs": []
    },
    {
      "cell_type": "code",
      "metadata": {
        "id": "_IjFfo24JVQx",
        "colab_type": "code",
        "colab": {}
      },
      "source": [
        "display(y_test.values)"
      ],
      "execution_count": null,
      "outputs": []
    },
    {
      "cell_type": "code",
      "metadata": {
        "id": "WoASLqZTrI9G",
        "colab_type": "code",
        "colab": {}
      },
      "source": [
        ""
      ],
      "execution_count": null,
      "outputs": []
    }
  ]
}